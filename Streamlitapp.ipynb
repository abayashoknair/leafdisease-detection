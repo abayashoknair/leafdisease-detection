{
  "nbformat": 4,
  "nbformat_minor": 0,
  "metadata": {
    "colab": {
      "name": "Streamlitapp.ipynb",
      "provenance": [],
      "authorship_tag": "ABX9TyNSyW0dKozyU0SSZMg7PolH",
      "include_colab_link": true
    },
    "kernelspec": {
      "name": "python3",
      "display_name": "Python 3"
    },
    "language_info": {
      "name": "python"
    }
  },
  "cells": [
    {
      "cell_type": "markdown",
      "metadata": {
        "id": "view-in-github",
        "colab_type": "text"
      },
      "source": [
        "<a href=\"https://colab.research.google.com/github/abayashoknair/leafdisease-detection/blob/main/Streamlitapp.ipynb\" target=\"_parent\"><img src=\"https://colab.research.google.com/assets/colab-badge.svg\" alt=\"Open In Colab\"/></a>"
      ]
    },
    {
      "cell_type": "code",
      "execution_count": 1,
      "metadata": {
        "id": "qiUPSUe5mRyv",
        "colab": {
          "base_uri": "https://localhost:8080/"
        },
        "outputId": "44e83877-aac9-44a1-8017-a2c858aa106e"
      },
      "outputs": [
        {
          "output_type": "stream",
          "name": "stdout",
          "text": [
            "Mounted at /content/gdrive\n"
          ]
        }
      ],
      "source": [
        "from google.colab import drive\n",
        "drive.mount('/content/gdrive')"
      ]
    },
    {
      "cell_type": "code",
      "source": [
        "!pip install -U ipykernel"
      ],
      "metadata": {
        "id": "L6g34hxynLrx"
      },
      "execution_count": null,
      "outputs": []
    },
    {
      "cell_type": "code",
      "source": [
        "!pip install -q streamlit"
      ],
      "metadata": {
        "colab": {
          "base_uri": "https://localhost:8080/"
        },
        "id": "cRUS8UDFnVSm",
        "outputId": "468e4463-b870-49e7-e9e3-d5fe2120f3e8"
      },
      "execution_count": 3,
      "outputs": [
        {
          "output_type": "stream",
          "name": "stdout",
          "text": [
            "\u001b[K     |████████████████████████████████| 10.1 MB 16.8 MB/s \n",
            "\u001b[K     |████████████████████████████████| 4.3 MB 41.3 MB/s \n",
            "\u001b[K     |████████████████████████████████| 76 kB 5.5 MB/s \n",
            "\u001b[K     |████████████████████████████████| 111 kB 62.4 MB/s \n",
            "\u001b[K     |████████████████████████████████| 181 kB 52.1 MB/s \n",
            "\u001b[K     |████████████████████████████████| 164 kB 56.5 MB/s \n",
            "\u001b[K     |████████████████████████████████| 63 kB 1.8 MB/s \n",
            "\u001b[?25h  Building wheel for blinker (setup.py) ... \u001b[?25l\u001b[?25hdone\n"
          ]
        }
      ]
    },
    {
      "cell_type": "code",
      "source": [
        "!pip install streamlit\n",
        "!pip install pyngrok"
      ],
      "metadata": {
        "id": "E3D5McLCnZip"
      },
      "execution_count": null,
      "outputs": []
    },
    {
      "cell_type": "code",
      "source": [
        "!mkdir -p /drive/ngrok-ssh\n",
        "%cd /drive/ngrok-ssh\n",
        "!wget https://bin.equinox.io/c/4VmDzA7iaHb/ngrok-stable-linux-amd64.zip -O ngrok-stable-linux-amd64.zip\n",
        "!unzip -u ngrok-stable-linux-amd64.zip\n",
        "!cp /drive/ngrok-ssh/ngrok /ngrok\n",
        "!chmod +x /ngrok"
      ],
      "metadata": {
        "id": "1RXxgAm2norU"
      },
      "execution_count": null,
      "outputs": []
    },
    {
      "cell_type": "code",
      "source": [
        "#@title !/ngrok authtoken XXXXXXX { display-mode: \"form\" }\n",
        "!/ngrok authtoken xxxxxxxxxxxxxxxxxxxxxxxxxxxxxxxxx"
      ],
      "metadata": {
        "colab": {
          "base_uri": "https://localhost:8080/"
        },
        "id": "1kWUxapJnv26",
        "outputId": "e2efa5dd-6f76-4b3a-98d1-8893c7a29d6d"
      },
      "execution_count": 6,
      "outputs": [
        {
          "output_type": "stream",
          "name": "stdout",
          "text": [
            "Authtoken saved to configuration file: /root/.ngrok2/ngrok.yml\n"
          ]
        }
      ]
    },
    {
      "cell_type": "code",
      "source": [
        "%%writefile img_classification.py\n",
        "import keras\n",
        "from PIL import Image, ImageOps\n",
        "import numpy as np\n",
        "import cv2\n",
        "\n",
        "def teachable_machine_classification(img, weights_file):\n",
        "    # Load the model\n",
        "    model = keras.models.load_model(weights_file)\n",
        "\n",
        "    # Create the array of the right shape to feed into the keras model\n",
        "    data = np.ndarray(shape=(1, 224, 224, 3), dtype=np.float32)\n",
        "    image = img\n",
        "    #image sizing\n",
        "    size = (224, 224)\n",
        "    image = ImageOps.fit(image, size, Image.ANTIALIAS)\n",
        "\n",
        "    #turn the image into a numpy array\n",
        "    #image = cv2.imread(image)\n",
        "    #image = cv2.cvtColor(image, cv2.COLOR_BGR2GRAY)\n",
        "    \n",
        "    image_array = np.asarray(image)\n",
        "    image_array = cv2.merge([image_array,image_array,image_array])\n",
        "    # Normalize the image\n",
        "    normalized_image_array = (image_array.astype(np.float32) / 255)\n",
        "\n",
        "    # Load the image into the array\n",
        "    data[0] = normalized_image_array\n",
        "\n",
        "    # run the inference\n",
        "    prediction = model.predict(data)\n",
        "    #return np.argmax(prediction)\n",
        "    return prediction.round() # return position of the highest probability"
      ],
      "metadata": {
        "colab": {
          "base_uri": "https://localhost:8080/"
        },
        "id": "99D2ahjzn0Tg",
        "outputId": "fabc80cb-9100-4f9a-ef52-a92bc137da8c"
      },
      "execution_count": 7,
      "outputs": [
        {
          "output_type": "stream",
          "name": "stdout",
          "text": [
            "Writing img_classification.py\n"
          ]
        }
      ]
    },
    {
      "cell_type": "code",
      "source": [
        "%%writefile app.py\n",
        "import streamlit as st\n",
        "from PIL import Image\n",
        "from img_classification import teachable_machine_classification\n",
        "\n",
        "st.sidebar.title(\"About\")\n",
        "st.sidebar.info(\"This is ML based leaf disease detection web app, where you can upload leaf images and predict whether the leaf is healthy or has rust or powdery diseases. This model is built with CNN.\")\n",
        "st.sidebar.title(\"detect any disease in leaves \")\n",
        "uploaded_file = st.sidebar.file_uploader(\"Choose a leaf image ...\", type=\"jpeg\")\n",
        "\n",
        "st.title(\"Leaf-disease-detection using CNN\")\n",
        "st.header(\"Predicting disease of leaf from leaf images\")\n",
        "st.text(\"Upload a leaf Image for image classification as healthy or diseased\")\n",
        "\n",
        "\n",
        "if uploaded_file is not None:\n",
        "  if st.button('detect disease'):\n",
        "    showpred = 1\n",
        "    image = Image.open(uploaded_file)\n",
        "    st.image(image, caption='Uploaded leaf image.', use_column_width='True')\n",
        "    st.write(\"\")\n",
        "    st.write(\"Classifying...\")\n",
        "    label = teachable_machine_classification(image, '/content/sample_data')\n",
        "    if label == 0:\n",
        "        st.write(\"the leaf is healthy\")\n",
        "    else:\n",
        "        st.write(\"The leaf has rusty disease\")\n",
        "    else:st.write(\"the ;eaf has powdery deisease\")\n"
      ],
      "metadata": {
        "colab": {
          "base_uri": "https://localhost:8080/"
        },
        "id": "v_w792MeoFmI",
        "outputId": "f94082b2-4b4a-4057-e796-c910556ac8d1"
      },
      "execution_count": 8,
      "outputs": [
        {
          "output_type": "stream",
          "name": "stdout",
          "text": [
            "Writing app.py\n"
          ]
        }
      ]
    },
    {
      "cell_type": "code",
      "source": [
        "get_ipython().system_raw('./ngrok http 8501 &')"
      ],
      "metadata": {
        "id": "nhfYhAL1oLz8"
      },
      "execution_count": 9,
      "outputs": []
    },
    {
      "cell_type": "code",
      "source": [
        "!curl -s http://localhost:4040/api/tunnels | python3 -c \\\n",
        "    'import sys, json; print(\"Execute the next cell and the go to the following URL: \" +json.load(sys.stdin)[\"tunnels\"][0][\"public_url\"])'"
      ],
      "metadata": {
        "colab": {
          "base_uri": "https://localhost:8080/"
        },
        "id": "VU60dQkPoS4f",
        "outputId": "f558992a-8c8d-4993-f0f8-48ba6b3b19b1"
      },
      "execution_count": 11,
      "outputs": [
        {
          "output_type": "stream",
          "name": "stdout",
          "text": [
            "Traceback (most recent call last):\n",
            "  File \"<string>\", line 1, in <module>\n",
            "  File \"/usr/lib/python3.7/json/__init__.py\", line 296, in load\n",
            "    parse_constant=parse_constant, object_pairs_hook=object_pairs_hook, **kw)\n",
            "  File \"/usr/lib/python3.7/json/__init__.py\", line 348, in loads\n",
            "    return _default_decoder.decode(s)\n",
            "  File \"/usr/lib/python3.7/json/decoder.py\", line 337, in decode\n",
            "    obj, end = self.raw_decode(s, idx=_w(s, 0).end())\n",
            "  File \"/usr/lib/python3.7/json/decoder.py\", line 355, in raw_decode\n",
            "    raise JSONDecodeError(\"Expecting value\", s, err.value) from None\n",
            "json.decoder.JSONDecodeError: Expecting value: line 1 column 1 (char 0)\n"
          ]
        }
      ]
    },
    {
      "cell_type": "code",
      "source": [
        "!streamlit run app.py"
      ],
      "metadata": {
        "colab": {
          "base_uri": "https://localhost:8080/"
        },
        "id": "Vvd6jHn_ofr3",
        "outputId": "f1465ff4-3601-4725-e4e7-1d285512e376"
      },
      "execution_count": null,
      "outputs": [
        {
          "output_type": "stream",
          "name": "stdout",
          "text": [
            "2022-04-21 05:39:43.732 INFO    numexpr.utils: NumExpr defaulting to 2 threads.\n",
            "\u001b[0m\n",
            "\u001b[34m\u001b[1m  You can now view your Streamlit app in your browser.\u001b[0m\n",
            "\u001b[0m\n",
            "\u001b[34m  Network URL: \u001b[0m\u001b[1mhttp://172.28.0.2:8501\u001b[0m\n",
            "\u001b[34m  External URL: \u001b[0m\u001b[1mhttp://34.91.233.168:8501\u001b[0m\n",
            "\u001b[0m\n"
          ]
        }
      ]
    }
  ]
}